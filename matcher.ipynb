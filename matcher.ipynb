{
 "cells": [
  {
   "cell_type": "code",
   "execution_count": 19,
   "metadata": {},
   "outputs": [],
   "source": [
    "from pymatgen.analysis.structure_matcher import StructureMatcher, FrameworkComparator, ElementComparator, SpeciesComparator\n",
    "from pymatgen.core.structure import Structure\n",
    "from pymatgen.symmetry.analyzer import SpacegroupAnalyzer\n",
    "import os,sys\n"
   ]
  },
  {
   "cell_type": "code",
   "execution_count": 20,
   "metadata": {},
   "outputs": [],
   "source": [
    "id=str(sys.argv[1])\n",
    "\n",
    "files = []\n",
    "for (dirpath, dirnames, filenames) in os.walk(id):\n",
    "    files.extend(filenames)\n",
    "    break\n",
    "\n",
    "strucdir='./'"
   ]
  },
  {
   "cell_type": "code",
   "execution_count": 21,
   "metadata": {},
   "outputs": [],
   "source": [
    "S = []\n",
    "for i in range(0, len(files)):\n",
    "    S.append(Structure.from_file(strucdir+id+files[i]))\n"
   ]
  },
  {
   "cell_type": "code",
   "execution_count": 22,
   "metadata": {},
   "outputs": [],
   "source": [
    "for i in range(0,len(S)):\n",
    "    spgpanalyzer=SpacegroupAnalyzer(S[i], symprec=0.1, angle_tolerance=7)\n",
    "    S[i]=spgpanalyzer.get_refined_structure()\n"
   ]
  },
  {
   "cell_type": "code",
   "execution_count": 23,
   "metadata": {},
   "outputs": [],
   "source": [
    "cmp=ElementComparator()\n",
    "#cmp=SpeciesComparator()\n",
    "matcher=StructureMatcher(ltol=0.9, stol=0.9, angle_tol=45, primitive_cell=True, scale=True, attempt_supercell=True, allow_subset=False, comparator=cmp, supercell_size='num_sites', ignored_species=['O'])\n",
    "\n",
    "results=[]\n"
   ]
  },
  {
   "cell_type": "code",
   "execution_count": 24,
   "metadata": {},
   "outputs": [],
   "source": [
    "for i in range(0, len(S)):\n",
    "    for j in range(0, len(S)):\n",
    "        if j>i:\n",
    "            rms_dist=matcher.get_rms_dist(S[i],S[j])\n",
    "            results.append([id, files[i], files[j], rms_dist[0]])\n"
   ]
  },
  {
   "cell_type": "code",
   "execution_count": 25,
   "metadata": {},
   "outputs": [],
   "source": [
    "#rms_dist=matcher.get_rms_dist(S[0],S[1])\n",
    "#rms_anony=matcher.get_rms_anonymous(S[0],S[1])\n",
    "\n",
    "results.sort(key=lambda x:x[3])\n",
    "#print (rms_dist[0])\n",
    "for i in range(0, len(results)):\n",
    "    print (results[i])\n"
   ]
  }
 ],
 "metadata": {
  "interpreter": {
   "hash": "d7c567e9848fb3ecda20df3fd1a0feee42ec42a7a7b7faf9f8bc86453f9790ec"
  },
  "kernelspec": {
   "display_name": "Python 3.9.12 ('base')",
   "language": "python",
   "name": "python3"
  },
  "language_info": {
   "codemirror_mode": {
    "name": "ipython",
    "version": 3
   },
   "file_extension": ".py",
   "mimetype": "text/x-python",
   "name": "python",
   "nbconvert_exporter": "python",
   "pygments_lexer": "ipython3",
   "version": "3.9.12"
  },
  "orig_nbformat": 4
 },
 "nbformat": 4,
 "nbformat_minor": 2
}
